{
  "nbformat": 4,
  "nbformat_minor": 0,
  "metadata": {
    "colab": {
      "provenance": [],
      "authorship_tag": "ABX9TyPdtX4j25Fg5dJ+0C9fjjxL",
      "include_colab_link": true
    },
    "kernelspec": {
      "name": "python3",
      "display_name": "Python 3"
    },
    "language_info": {
      "name": "python"
    }
  },
  "cells": [
    {
      "cell_type": "markdown",
      "metadata": {
        "id": "view-in-github",
        "colab_type": "text"
      },
      "source": [
        "<a href=\"https://colab.research.google.com/github/shivakumarthaduri/AIML_BATCH_10/blob/main/LAB_02.ipynb\" target=\"_parent\"><img src=\"https://colab.research.google.com/assets/colab-badge.svg\" alt=\"Open In Colab\"/></a>"
      ]
    },
    {
      "cell_type": "code",
      "source": [
        "import numpy as np\n",
        "\n",
        "from queue import Queue\n",
        ""
      ],
      "metadata": {
        "id": "xF_YvbOf4w5_"
      },
      "execution_count": 2,
      "outputs": []
    },
    {
      "cell_type": "code",
      "source": [
        "graph = {0: [1, 3],1:[0,2,3],2:[4,1,5],3:[4,0,1],4:[2,3,5],5:[4,2],6:[]}"
      ],
      "metadata": {
        "id": "4K8_UTXx5DAr"
      },
      "execution_count": 3,
      "outputs": []
    },
    {
      "cell_type": "code",
      "source": [
        "print(\"The adjacency list representing the graph is :\")\n",
        "print(graph)"
      ],
      "metadata": {
        "colab": {
          "base_uri": "https://localhost:8080/"
        },
        "id": "hIFSfyX-5P3g",
        "outputId": "712bc4b0-8a14-4b32-dd2d-ead75c76c13b"
      },
      "execution_count": 4,
      "outputs": [
        {
          "output_type": "stream",
          "name": "stdout",
          "text": [
            "The adjacency list representing the graph is :\n",
            "{0: [1, 3], 1: [0, 2, 3], 2: [4, 1, 5], 3: [4, 0, 1], 4: [2, 3, 5], 5: [4, 2], 6: []}\n"
          ]
        }
      ]
    },
    {
      "cell_type": "code",
      "source": [
        "def bfs(graph, source):\n",
        "    Q=Queue()\n",
        "    visited_vertices=set()\n",
        "    Q.put(source)\n",
        "    visited_vertices.update({0})\n",
        "    while not Q.empty():\n",
        "      vertex =Q.get()\n",
        "      print(vertex, end=\"->\")\n",
        "      for u in graph[vertex]:\n",
        "        if u not in visited_vertices:\n",
        "          Q.put(u)\n",
        "          visited_vertices.update({u})\n",
        "print(\"BFs traversal of graph with source 0 is:\")\n",
        "bfs(graph, 0)"
      ],
      "metadata": {
        "colab": {
          "base_uri": "https://localhost:8080/"
        },
        "id": "TFg1a0wc5Wza",
        "outputId": "5d880ee6-5118-4b18-dc44-c2e660242f55"
      },
      "execution_count": 5,
      "outputs": [
        {
          "output_type": "stream",
          "name": "stdout",
          "text": [
            "BFs traversal of graph with source 0 is:\n",
            "0->1->3->2->4->5->"
          ]
        }
      ]
    },
    {
      "cell_type": "code",
      "source": [
        "def bfs(graph, source):\n",
        "  Q=Queue()\n",
        "  visited_vertices=set()\n",
        "  Q.put(source)\n",
        "  visited_vertices.update({0})\n",
        "  while not Q.empty():\n",
        "    vertex =Q.get()\n",
        "    print(vertex, end=\"->\")\n",
        "    for u in graph[vertex]:\n",
        "      if u not in visited_vertices:\n",
        "        Q.put(u)\n",
        "        visited_vertices.update({u})\n",
        "print(\"BFs traversal of graph with source 0 is:\")\n",
        "bfs(graph, 0)\n"
      ],
      "metadata": {
        "colab": {
          "base_uri": "https://localhost:8080/"
        },
        "id": "becVNYb35hxQ",
        "outputId": "6c0416e2-2d13-4ca1-8dca-618c5382e61b"
      },
      "execution_count": 6,
      "outputs": [
        {
          "output_type": "stream",
          "name": "stdout",
          "text": [
            "BFs traversal of graph with source 0 is:\n",
            "0->1->3->2->4->5->"
          ]
        }
      ]
    },
    {
      "cell_type": "code",
      "source": [
        "from queue import Queue\n",
        "graph = {0: [1,2,3],1:[0,2],2:[0,1,3,5],3:[0,2,4],4:[3,5,7],5:[2,4,6,7],6:[5,7],7:[4,5,6]}\n",
        "print(\"The adjacency list representing the graph is :\")\n",
        "print(graph)"
      ],
      "metadata": {
        "colab": {
          "base_uri": "https://localhost:8080/"
        },
        "id": "puEGJyI85ors",
        "outputId": "008fb812-570a-4715-e467-e5840ea7e109"
      },
      "execution_count": 7,
      "outputs": [
        {
          "output_type": "stream",
          "name": "stdout",
          "text": [
            "The adjacency list representing the graph is :\n",
            "{0: [1, 2, 3], 1: [0, 2], 2: [0, 1, 3, 5], 3: [0, 2, 4], 4: [3, 5, 7], 5: [2, 4, 6, 7], 6: [5, 7], 7: [4, 5, 6]}\n"
          ]
        }
      ]
    },
    {
      "cell_type": "code",
      "source": [
        "def bfs(graph, source):\n",
        "  Q=Queue()\n",
        "  visited_vertices=set()\n",
        "  Q.put(source)\n",
        "  visited_vertices.update({0})\n",
        "  while not Q.empty():\n",
        "        vertex =Q.get()\n",
        "        print(vertex, end=\"->\")\n",
        "        for u in graph[vertex]:\n",
        "           if u not in visited_vertices:\n",
        "             Q.put(u)\n",
        "             visited_vertices.update({u})\n",
        "print(\"BFs traversal of graph with source 0 is:\")\n",
        "bfs(graph, 0)"
      ],
      "metadata": {
        "colab": {
          "base_uri": "https://localhost:8080/"
        },
        "id": "vRiwvCtr5tHl",
        "outputId": "8faaddcc-5087-4bba-8f14-caf4ce314f13"
      },
      "execution_count": 8,
      "outputs": [
        {
          "output_type": "stream",
          "name": "stdout",
          "text": [
            "BFs traversal of graph with source 0 is:\n",
            "0->1->2->3->5->4->6->7->"
          ]
        }
      ]
    },
    {
      "cell_type": "code",
      "source": [
        "from queue import Queue\n",
        ""
      ],
      "metadata": {
        "id": "1DE1wnI850Kn"
      },
      "execution_count": 9,
      "outputs": []
    },
    {
      "cell_type": "code",
      "source": [
        "graph={\n",
        "\n",
        "  }"
      ],
      "metadata": {
        "id": "kdn-A_ls518f"
      },
      "execution_count": 10,
      "outputs": []
    },
    {
      "cell_type": "code",
      "source": [
        "def dfs(graph,node,visited):\n",
        "    if node not in visited:\n",
        "        visited\n",
        ""
      ],
      "metadata": {
        "id": "S5Yin22w56qn"
      },
      "execution_count": 11,
      "outputs": []
    }
  ]
}